{
 "cells": [
  {
   "cell_type": "code",
   "execution_count": 33,
   "metadata": {
    "collapsed": false
   },
   "outputs": [
    {
     "name": "stdout",
     "output_type": "stream",
     "text": [
      "(682230, 6449)\n"
     ]
    }
   ],
   "source": [
    "%matplotlib inline\n",
    "import numpy as np\n",
    "from scipy.sparse import csr_matrix\n",
    "import sklearn as sk\n",
    "\n",
    "\n",
    "filepath = \"../resources/test/test.edgelist\"\n",
    "# fan_id,star_id,star_idx,num_followers,cat,weight\n",
    "raw_data = np.loadtxt(filepath, delimiter=\" \", dtype=int)\n",
    "\n",
    "fan_star = csr_matrix((np.ones(raw_data.shape[0]), (raw_data[:, 1], raw_data[:, 0])))\n",
    "\n",
    "print fan_star.shape"
   ]
  },
  {
   "cell_type": "code",
   "execution_count": null,
   "metadata": {
    "collapsed": true
   },
   "outputs": [],
   "source": []
  }
 ],
 "metadata": {
  "anaconda-cloud": {},
  "kernelspec": {
   "display_name": "Python [conda root]",
   "language": "python",
   "name": "conda-root-py"
  },
  "language_info": {
   "codemirror_mode": {
    "name": "ipython",
    "version": 2
   },
   "file_extension": ".py",
   "mimetype": "text/x-python",
   "name": "python",
   "nbconvert_exporter": "python",
   "pygments_lexer": "ipython2",
   "version": "2.7.12"
  }
 },
 "nbformat": 4,
 "nbformat_minor": 1
}
